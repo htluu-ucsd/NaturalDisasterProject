{
 "cells": [
  {
   "cell_type": "code",
   "execution_count": 1,
   "metadata": {
    "id": "XuveO0oho3Jh"
   },
   "outputs": [],
   "source": [
    "import requests\n",
    "from bs4 import BeautifulSoup"
   ]
  },
  {
   "cell_type": "code",
   "execution_count": 2,
   "metadata": {
    "colab": {
     "base_uri": "https://localhost:8080/"
    },
    "id": "rY-4mUaOo8Gl",
    "outputId": "be776b06-5f63-47ff-bf0f-6c3a9f35759c"
   },
   "outputs": [
    {
     "data": {
      "text/plain": [
       "200"
      ]
     },
     "execution_count": 2,
     "metadata": {},
     "output_type": "execute_result"
    }
   ],
   "source": [
    "#https://api.tidesandcurrents.noaa.gov/api/prod/\n",
    "\n",
    "url = 'https://api.tidesandcurrents.noaa.gov/api/prod/'\n",
    "parameters = 'datagetter?date=latest&station=9410170&product=one_minute_water_level&datum=STND&time_zone=lst&units=english&format=json'\n",
    "\n",
    "r = requests.get(url + parameters)\n",
    "\n",
    "r.status_code"
   ]
  },
  {
   "cell_type": "code",
   "execution_count": 3,
   "metadata": {
    "colab": {
     "base_uri": "https://localhost:8080/"
    },
    "id": "NlvDi96uo8Ef",
    "outputId": "37bdee82-f3a6-478f-8c23-059c9e105f9b"
   },
   "outputs": [
    {
     "data": {
      "text/plain": [
       "{'metadata': {'id': '9410170',\n",
       "  'name': 'San Diego',\n",
       "  'lat': '32.7156',\n",
       "  'lon': '-117.1767'},\n",
       " 'data': [{'t': '2025-01-12 21:53', 'v': '7.927'}]}"
      ]
     },
     "execution_count": 3,
     "metadata": {},
     "output_type": "execute_result"
    }
   ],
   "source": [
    "r.json()"
   ]
  },
  {
   "cell_type": "code",
   "execution_count": 4,
   "metadata": {
    "colab": {
     "base_uri": "https://localhost:8080/"
    },
    "id": "8G6e2yQBo8CX",
    "outputId": "3aefd173-d447-4c19-ebfe-46bf8c00b9e7"
   },
   "outputs": [
    {
     "data": {
      "text/plain": [
       "200"
      ]
     },
     "execution_count": 4,
     "metadata": {},
     "output_type": "execute_result"
    }
   ],
   "source": [
    "parameters = 'datagetter?begin_date=20250110&end_date=20250112&station=9410170&product=one_minute_water_level&datum=STND&time_zone=lst&units=english&format=csv'\n",
    "r = requests.get(url + parameters)\n",
    "\n",
    "r.status_code"
   ]
  },
  {
   "cell_type": "code",
   "execution_count": 5,
   "metadata": {
    "id": "_ggCiJWUo7_v"
   },
   "outputs": [],
   "source": [
    "csv_file = open('test.csv', 'wb')\n",
    "csv_file.write(r.content)\n",
    "csv_file.close()"
   ]
  },
  {
   "cell_type": "code",
   "execution_count": null,
   "metadata": {
    "id": "NvI3Fwj6o77G"
   },
   "outputs": [],
   "source": [
    "paramters = 'datagetter?date=latest&station=9410170&product=one_minute_water_level&datum=STND&time_zone=lst&units=english&format=json'\n"
   ]
  },
  {
   "cell_type": "markdown",
   "metadata": {},
   "source": [
    "### Use Selenium for dynamic rendered websites"
   ]
  },
  {
   "cell_type": "code",
   "execution_count": 7,
   "metadata": {},
   "outputs": [],
   "source": [
    "from selenium import webdriver\n",
    "from selenium.webdriver.chrome.service import Service\n",
    "from selenium.webdriver.common.by import By\n",
    "from selenium.webdriver.support.ui import WebDriverWait\n",
    "from selenium.webdriver.support import expected_conditions as EC\n",
    "import re"
   ]
  },
  {
   "cell_type": "code",
   "execution_count": 2,
   "metadata": {},
   "outputs": [],
   "source": [
    "#use the path you saved it in\n",
    "PATH = r\"C:\\Program Files\\chromedriver-win64\\chromedriver.exe\"\n",
    "\n",
    "URL = \"https://tidesandcurrents.noaa.gov/stations.html?type=Water+Levels\""
   ]
  },
  {
   "cell_type": "code",
   "execution_count": 3,
   "metadata": {},
   "outputs": [],
   "source": [
    "service = Service(executable_path=PATH)\n",
    "\n",
    "driver = webdriver.Chrome(service=service)"
   ]
  },
  {
   "cell_type": "code",
   "execution_count": 4,
   "metadata": {},
   "outputs": [],
   "source": [
    "STATION_ID = [] #grab all stations that take water level measurements\n"
   ]
  },
  {
   "cell_type": "code",
   "execution_count": null,
   "metadata": {},
   "outputs": [],
   "source": [
    "driver.get(URL)\n",
    "\n",
    "wait = WebDriverWait(driver, 10)  # stay on site for 10s\n",
    "\n",
    "a_elements = wait.until(\n",
    "    EC.presence_of_all_elements_located((By.XPATH, '//a[@style=\"color: #015FA9;\"]'))\n",
    ")"
   ]
  },
  {
   "cell_type": "code",
   "execution_count": null,
   "metadata": {},
   "outputs": [],
   "source": [
    "for element in a_elements:\n",
    "    # regex for extracting 7-digit station id\n",
    "    match = re.search(r'waterlevels\\.html\\?id=(\\d{7})', element.get_attribute('href'))\n",
    "    if match:\n",
    "        STATION_ID.append(match.group(1))"
   ]
  },
  {
   "cell_type": "code",
   "execution_count": 14,
   "metadata": {},
   "outputs": [
    {
     "name": "stdout",
     "output_type": "stream",
     "text": [
      "292\n",
      "8735180\n",
      "9449880\n"
     ]
    }
   ],
   "source": [
    "print(len(STATION_ID)) #test if correctly collected\n",
    "print(STATION_ID[0])\n",
    "print(STATION_ID[len(STATION_ID) - 1])\n"
   ]
  },
  {
   "cell_type": "code",
   "execution_count": 11,
   "metadata": {},
   "outputs": [],
   "source": [
    "driver.quit()"
   ]
  },
  {
   "cell_type": "code",
   "execution_count": null,
   "metadata": {},
   "outputs": [],
   "source": []
  }
 ],
 "metadata": {
  "colab": {
   "provenance": [],
   "toc_visible": true
  },
  "kernelspec": {
   "display_name": "Scraping",
   "language": "python",
   "name": "python3"
  },
  "language_info": {
   "codemirror_mode": {
    "name": "ipython",
    "version": 3
   },
   "file_extension": ".py",
   "mimetype": "text/x-python",
   "name": "python",
   "nbconvert_exporter": "python",
   "pygments_lexer": "ipython3",
   "version": "3.10.16"
  }
 },
 "nbformat": 4,
 "nbformat_minor": 1
}
