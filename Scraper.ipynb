{
 "cells": [
  {
   "cell_type": "code",
   "execution_count": 1,
   "metadata": {
    "id": "XuveO0oho3Jh"
   },
   "outputs": [],
   "source": [
    "import requests\n",
    "from bs4 import BeautifulSoup\n",
    "\n",
    "import pandas as pd"
   ]
  },
  {
   "cell_type": "code",
   "execution_count": null,
   "metadata": {
    "colab": {
     "base_uri": "https://localhost:8080/"
    },
    "id": "rY-4mUaOo8Gl",
    "outputId": "be776b06-5f63-47ff-bf0f-6c3a9f35759c"
   },
   "outputs": [],
   "source": [
    "#https://api.tidesandcurrents.noaa.gov/api/prod/\n",
    "\n",
    "url = 'https://api.tidesandcurrents.noaa.gov/api/prod/'\n",
    "parameters = 'datagetter?date=latest&station=9410170&product=one_minute_water_level&datum=STND&time_zone=lst&units=english&format=json'\n",
    "\n",
    "r = requests.get(url + parameters)\n",
    "\n",
    "r.status_code"
   ]
  },
  {
   "cell_type": "code",
   "execution_count": null,
   "metadata": {
    "colab": {
     "base_uri": "https://localhost:8080/"
    },
    "id": "NlvDi96uo8Ef",
    "outputId": "37bdee82-f3a6-478f-8c23-059c9e105f9b"
   },
   "outputs": [],
   "source": [
    "r.json()"
   ]
  },
  {
   "cell_type": "code",
   "execution_count": null,
   "metadata": {},
   "outputs": [],
   "source": [
    "request_json = r.json()['metadata']\n",
    "list = []\n",
    "\n",
    "for k in request_json:\n",
    "    list.append(request_json[k])\n",
    "\n",
    "print(list)"
   ]
  },
  {
   "cell_type": "code",
   "execution_count": null,
   "metadata": {
    "colab": {
     "base_uri": "https://localhost:8080/"
    },
    "id": "8G6e2yQBo8CX",
    "outputId": "3aefd173-d447-4c19-ebfe-46bf8c00b9e7"
   },
   "outputs": [],
   "source": [
    "parameters = 'datagetter?begin_date=20250110&end_date=20250112&station=9410170&product=one_minute_water_level&datum=STND&time_zone=lst&units=english&format=csv'\n",
    "r = requests.get(url + parameters)\n",
    "\n",
    "r.status_code"
   ]
  },
  {
   "cell_type": "code",
   "execution_count": 78,
   "metadata": {
    "id": "_ggCiJWUo7_v"
   },
   "outputs": [],
   "source": [
    "csv_file = open('test.csv', 'wb')\n",
    "csv_file.write(r.content)\n",
    "csv_file.close()"
   ]
  },
  {
   "cell_type": "code",
   "execution_count": 79,
   "metadata": {
    "id": "NvI3Fwj6o77G"
   },
   "outputs": [],
   "source": [
    "paramters = 'datagetter?date=latest&station=9410170&product=one_minute_water_level&datum=STND&time_zone=lst&units=english&format=json'\n"
   ]
  },
  {
   "cell_type": "markdown",
   "metadata": {},
   "source": [
    "### Use Selenium for dynamic rendered websites"
   ]
  },
  {
   "cell_type": "code",
   "execution_count": 15,
   "metadata": {},
   "outputs": [],
   "source": [
    "from selenium import webdriver\n",
    "from selenium.webdriver.chrome.service import Service\n",
    "from selenium.webdriver.common.by import By\n",
    "from selenium.webdriver.support.ui import WebDriverWait\n",
    "from selenium.webdriver.support import expected_conditions as EC\n",
    "import re"
   ]
  },
  {
   "cell_type": "code",
   "execution_count": 26,
   "metadata": {},
   "outputs": [],
   "source": [
    "#use the path you saved it in\n",
    "PATH = \"/Users/claire/Downloads/chromedriver-mac-arm64/chromedriver\"\n",
    "\n",
    "#URL = \"https://tidesandcurrents.noaa.gov/stations.html?type=Water+Levels\"\n",
    "#URL = \"https://tidesandcurrents.noaa.gov/stations.html?type=Physical+Oceanography\"\n",
    "URL = \"https://tidesandcurrents.noaa.gov/stations.html?type=Meteorological+Observations\""
   ]
  },
  {
   "cell_type": "code",
   "execution_count": 27,
   "metadata": {},
   "outputs": [],
   "source": [
    "service = Service(executable_path=PATH)\n",
    "\n",
    "driver = webdriver.Chrome(service=service)"
   ]
  },
  {
   "cell_type": "code",
   "execution_count": null,
   "metadata": {},
   "outputs": [],
   "source": [
    "STATION_ID = [] #grab all stations that take water level measurements\n",
    "driver.get(URL)\n",
    "\n",
    "wait = WebDriverWait(driver, 10)  # stay on site for 10s\n",
    "\n",
    "a_elements = wait.until(\n",
    "    EC.presence_of_all_elements_located((By.XPATH, '//a[@style=\"color: #015FA9;\"]'))\n",
    ")"
   ]
  },
  {
   "cell_type": "code",
   "execution_count": 20,
   "metadata": {},
   "outputs": [],
   "source": [
    "for element in a_elements:\n",
    "    # regex for extracting 7-digit station id\n",
    "    match = re.search(r'met\\.html\\?id=(\\d{7})', element.get_attribute('href'))\n",
    "    if match:\n",
    "        STATION_ID.append(match.group(1))"
   ]
  },
  {
   "cell_type": "code",
   "execution_count": null,
   "metadata": {},
   "outputs": [],
   "source": [
    "print(len(STATION_ID)) #test if correctly collected\n",
    "print(STATION_ID[0])\n",
    "print(STATION_ID[len(STATION_ID) - 1])\n",
    "print(STATION_ID)\n",
    "\n",
    "#store station ids\n",
    "with open('met_stationid.txt', 'w') as text_file:\n",
    "    for id in STATION_ID:\n",
    "        text_file.write(id + '\\n')\n"
   ]
  },
  {
   "cell_type": "code",
   "execution_count": 30,
   "metadata": {},
   "outputs": [],
   "source": [
    "driver.quit()"
   ]
  },
  {
   "cell_type": "markdown",
   "metadata": {},
   "source": [
    "### Now we can use their api with our list of station IDs\n"
   ]
  },
  {
   "cell_type": "code",
   "execution_count": 12,
   "metadata": {},
   "outputs": [],
   "source": [
    "# for help formatting data collection\n",
    "# https://tidesandcurrents.noaa.gov/api-helper/url-generator.html\n",
    "\n",
    "url_toaa = 'https://api.tidesandcurrents.noaa.gov/api/prod/'\n",
    "parameters = 'datagetter?begin_date=20200101&end_date=20201231&station=8735180&product=hourly_height&datum=STND&time_zone=lst&units=english&format=csv'"
   ]
  },
  {
   "cell_type": "code",
   "execution_count": 24,
   "metadata": {},
   "outputs": [],
   "source": [
    "#dates in format: yyyymmdd\n",
    "#product can be: hourly_height\n",
    "#default local standard time\n",
    "def callAPI(begin_date, end_date, station, product, directory_path):\n",
    "    #get metadata first\n",
    "    r = requests.get(url_toaa + 'datagetter?begin_date=20200101&end_date=20200101&station=' + station + '&product=hourly_height&datum=STND&time_zone=lst&units=english&format=json')\n",
    "    if (r.status_code != 200):\n",
    "        return 'failed'\n",
    "\n",
    "    #format: 'id','name', 'lat', 'lon'\n",
    "    data = r.json()['metadata']\n",
    "    metadata = []\n",
    "    for k in data:\n",
    "        metadata.append(data[k])\n",
    "\n",
    "    #get actual data\n",
    "    parameters = 'datagetter?begin_date=' + begin_date + '&end_date=' + end_date + '&station=' + station + '&product=' + product + '&datum=STND&time_zone=lst&units=english&format=csv'\n",
    "    \n",
    "    r = requests.get(url_toaa + parameters)\n",
    "\n",
    "    if (r.status_code != 200):\n",
    "        return 'failed'\n",
    "    \n",
    "    year = begin_date[:4]\n",
    "    #save to file\n",
    "    csv_file = open(directory_path + year + '_' + metadata[0] + '_' + metadata[1] + '_' + metadata[2] + '_' + metadata[3] + '.csv', 'wb')\n",
    "    csv_file.write(r.content)\n",
    "    csv_file.close()\n",
    "\n",
    "    return r\n"
   ]
  },
  {
   "cell_type": "code",
   "execution_count": 90,
   "metadata": {},
   "outputs": [],
   "source": [
    "#TESTING ONLY\n",
    "# status = callAPI('20200101', '20201231', str(STATION_ID[0]), 'hourly_height')\n",
    "\n",
    "if (status == 'failed'):\n",
    "    print('failed')"
   ]
  },
  {
   "cell_type": "code",
   "execution_count": null,
   "metadata": {},
   "outputs": [],
   "source": [
    "with open('stationid.txt', 'w') as text_file:\n",
    "    for id in STATION_ID:\n",
    "        text_file.write(id + '\\n')"
   ]
  },
  {
   "cell_type": "code",
   "execution_count": 30,
   "metadata": {},
   "outputs": [],
   "source": [
    "#copied for use\n",
    "STATION_ID = ['8735180', '8735391', '8735523', '8736897', '8737048', '8737138', '8738043', '8739803', '9450460', '9451054', '9451600', '9452210', '9452400', '9452634', '9453220', '9454050', '9454240', '9455090', '9455500', '9455760', '9455920', '9457292', '9457804', '9459450', '9459881', '9461380', '9461710', '9462450', '9462620', '9463502', '9464212', '9468333', '9468756', '9491094', '9497645', '2695535', '2695540', '9410170', '9410230', '9410660', '9410840', '9411340', '9412110', '9413450', '9414290', '9414523', '9414750', '9414863', '9415020', '9415102', '9415144', '9416841', '9418767', '9419750', '9751364', '9751381', '9751401', '9751639', '9752235', '9752695', '9755371', '9759110', '9759394', '9759938', '8461490', '8465705', '8467150', '8551762', '8551910', '8555889', '8557380', '8594900', '8720030', '8720218', '8720219', '8720226', '8720357', '8721604', '8722670', '8722956', '8723214', '8723970', '8724580', '8725114', '8725520', '8726384', '8726520', '8726607', '8726674', '8726724', '8727520', '8728690', '8729108', '8729210', '8729840', '8670870', '8679598', '9044020', '9044030', '9044036', '9044049', '9063020', '9063028', '9063038', '9063053', '9063063', '9063079', '9063085', '9063090', '9075002', '9075014', '9075035', '9075065', '9075080', '9075099', '9087023', '9087031', '9087044', '9087057', '9087068', '9087072', '9087077', '9087088', '9087096', '9052000', '9052030', '9052058', '9052076', '9034052', '9099004', '9099018', '9099044', '9099064', '9099090', '9063007', '9063009', '9063012', '9014070', '9014080', '9014087', '9014090', '9014098', '8311030', '8311062', '9076024', '9076027', '9076033', '9076060', '9076070', '1611400', '1612340', '1612401', '1612480', '1615680', '1617433', '1617760', '8760721', '8760922', '8761305', '8761724', '8761927', '8761955', '8762075', '8762482', '8764044', '8764227', '8764314', '8766072', '8767816', '8767961', '8768094', '8410140', '8411060', '8413320', '8418150', '8419870', '8570283', '8571421', '8571892', '8573364', '8573927', '8574680', '8575512', '8577330', '8443970', '8447386', '8447435', '8447636', '8447930', '8449130', '8741533', '8747437', '8531680', '8534720', '8536110', '8537121', '8539094', '8510560', '8516945', '8518750', '8518962', '8651370', '8652587', '8654467', '8656483', '8658120', '8658163', '9431647', '9432780', '9435380', '9437540', '9439040', '9439099', '9439201', '1619910', '1630000', '1631428', '1770000', '1820000', '1890000', '8540433', '8545240', '8546252', '8548989', '8452660', '8452944', '8454000', '8454049', '8661070', '8665530', '8770475', '8770520', '8770613', '8770777', '8770808', '8770822', '8770971', '8771013', '8771341', '8771367', '8771450', '8771486', '8771972', '8772471', '8772985', '8773037', '8773146', '8773259', '8773701', '8773767', '8774230', '8774770', '8775132', '8775222', '8775237', '8775241', '8775283', '8775296', '8775792', '8776139', '8776604', '8777812', '8778490', '8779280', '8779748', '8779749', '8779770', '8631044', '8632200', '8635027', '8635750', '8636580', '8637689', '8638610', '8638901', '8639348', '9440083', '9440357', '9440422', '9440569', '9440581', '9440910', '9441102', '9442396', '9443090', '9444090', '9444900', '9445958', '9446484', '9447130', '9449424', '9449880']\n",
    "station_count = len(STATION_ID)"
   ]
  },
  {
   "cell_type": "code",
   "execution_count": 25,
   "metadata": {},
   "outputs": [],
   "source": [
    "#get hourly water levels for 0th station\n",
    "def getDecade(stat_id, directory_path):\n",
    "    for year in range(2004, 2024 + 1):\n",
    "        status = callAPI(str(year) + '0101', str(year) + '1231', stat_id, 'hourly_height', directory_path)\n",
    "\n",
    "        if (status == 'failed'):\n",
    "            print('failed at year: ' + year)\n",
    "            break"
   ]
  },
  {
   "cell_type": "code",
   "execution_count": 99,
   "metadata": {},
   "outputs": [],
   "source": [
    "# callAPI('20200101', '20201231', str(STATION_ID[0]), 'hourly_height')"
   ]
  },
  {
   "cell_type": "code",
   "execution_count": 23,
   "metadata": {},
   "outputs": [],
   "source": []
  },
  {
   "cell_type": "code",
   "execution_count": null,
   "metadata": {},
   "outputs": [],
   "source": [
    "import os\n",
    "\n",
    "for i, station in enumerate(STATION_ID):\n",
    "    print('starting ' + station)\n",
    "    directory_path = 'data/' + station +'/'\n",
    "    os.makedirs(directory_path, exist_ok=True)\n",
    "    getDecade(station, directory_path)\n",
    "    print('finishing ' + station + ' ' + str(i + 1) + '/' + str(station_count))"
   ]
  }
 ],
 "metadata": {
  "colab": {
   "provenance": [],
   "toc_visible": true
  },
  "kernelspec": {
   "display_name": "Python 3 (ipykernel)",
   "language": "python",
   "name": "python3"
  },
  "language_info": {
   "codemirror_mode": {
    "name": "ipython",
    "version": 3
   },
   "file_extension": ".py",
   "mimetype": "text/x-python",
   "name": "python",
   "nbconvert_exporter": "python",
   "pygments_lexer": "ipython3",
   "version": "3.12.2"
  }
 },
 "nbformat": 4,
 "nbformat_minor": 4
}
