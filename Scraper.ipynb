{
 "cells": [
  {
   "cell_type": "code",
   "execution_count": 1,
   "metadata": {
    "id": "XuveO0oho3Jh"
   },
   "outputs": [],
   "source": [
    "import requests\n",
    "from bs4 import BeautifulSoup"
   ]
  },
  {
   "cell_type": "code",
   "execution_count": 2,
   "metadata": {
    "colab": {
     "base_uri": "https://localhost:8080/"
    },
    "id": "rY-4mUaOo8Gl",
    "outputId": "be776b06-5f63-47ff-bf0f-6c3a9f35759c"
   },
   "outputs": [
    {
     "data": {
      "text/plain": [
       "200"
      ]
     },
     "execution_count": 2,
     "metadata": {},
     "output_type": "execute_result"
    }
   ],
   "source": [
    "#https://api.tidesandcurrents.noaa.gov/api/prod/\n",
    "\n",
    "url = 'https://api.tidesandcurrents.noaa.gov/api/prod/'\n",
    "parameters = 'datagetter?date=latest&station=9410170&product=one_minute_water_level&datum=STND&time_zone=lst&units=english&format=json'\n",
    "\n",
    "r = requests.get(url + parameters)\n",
    "\n",
    "r.status_code"
   ]
  },
  {
   "cell_type": "code",
   "execution_count": 3,
   "metadata": {
    "colab": {
     "base_uri": "https://localhost:8080/"
    },
    "id": "NlvDi96uo8Ef",
    "outputId": "37bdee82-f3a6-478f-8c23-059c9e105f9b"
   },
   "outputs": [
    {
     "data": {
      "text/plain": [
       "{'metadata': {'id': '9410170',\n",
       "  'name': 'San Diego',\n",
       "  'lat': '32.7156',\n",
       "  'lon': '-117.1767'},\n",
       " 'data': [{'t': '2025-01-12 21:53', 'v': '7.927'}]}"
      ]
     },
     "execution_count": 3,
     "metadata": {},
     "output_type": "execute_result"
    }
   ],
   "source": [
    "r.json()"
   ]
  },
  {
   "cell_type": "code",
   "execution_count": 4,
   "metadata": {
    "colab": {
     "base_uri": "https://localhost:8080/"
    },
    "id": "8G6e2yQBo8CX",
    "outputId": "3aefd173-d447-4c19-ebfe-46bf8c00b9e7"
   },
   "outputs": [
    {
     "data": {
      "text/plain": [
       "200"
      ]
     },
     "execution_count": 4,
     "metadata": {},
     "output_type": "execute_result"
    }
   ],
   "source": [
    "parameters = 'datagetter?begin_date=20250110&end_date=20250112&station=9410170&product=one_minute_water_level&datum=STND&time_zone=lst&units=english&format=csv'\n",
    "r = requests.get(url + parameters)\n",
    "\n",
    "r.status_code"
   ]
  },
  {
   "cell_type": "code",
   "execution_count": 5,
   "metadata": {
    "id": "_ggCiJWUo7_v"
   },
   "outputs": [],
   "source": [
    "csv_file = open('test.csv', 'wb')\n",
    "csv_file.write(r.content)\n",
    "csv_file.close()"
   ]
  },
  {
   "cell_type": "code",
   "execution_count": null,
   "metadata": {
    "id": "NvI3Fwj6o77G"
   },
   "outputs": [],
   "source": [
    "paramters = 'datagetter?date=latest&station=9410170&product=one_minute_water_level&datum=STND&time_zone=lst&units=english&format=json'\n"
   ]
  }
 ],
 "metadata": {
  "colab": {
   "provenance": [],
   "toc_visible": true
  },
  "kernelspec": {
   "display_name": "Python 3 (ipykernel)",
   "language": "python",
   "name": "python3"
  },
  "language_info": {
   "codemirror_mode": {
    "name": "ipython",
    "version": 3
   },
   "file_extension": ".py",
   "mimetype": "text/x-python",
   "name": "python",
   "nbconvert_exporter": "python",
   "pygments_lexer": "ipython3",
   "version": "3.9.5"
  }
 },
 "nbformat": 4,
 "nbformat_minor": 1
}
